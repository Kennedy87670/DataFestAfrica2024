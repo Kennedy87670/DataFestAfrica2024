{
 "cells": [
  {
   "cell_type": "markdown",
   "metadata": {},
   "source": [
    "##  Diagnostics for Parental Engagement\n",
    "To assess the impact of parental engagement on academic performance, we can use parental engagement metrics such as Engagement in School Activities and correlate them with student academic outcomes like total scores, attendance, and even behavioral incidents.\n",
    "\n",
    "Steps for Analysis:\n",
    "\n",
    "1. Group students based on their parent's engagement level (High, Medium, Low).\n",
    "2. Calculate the average academic score and attendance for each engagement category.\n",
    "3. Create visualizations to show the distribution of student performance across engagement categories.\n",
    "4. Use diagnostic statistics (e.g., correlation analysis) to identify if there's a significant relationship."
   ]
  },
  {
   "cell_type": "code",
   "execution_count": 22,
   "metadata": {},
   "outputs": [],
   "source": [
    "import pandas as pd\n",
    "import matplotlib.pyplot as plt\n",
    "import seaborn as sns\n",
    "# Load the parental engagement data\n",
    "parents_df = pd.read_csv(\"../DataGeneration/parents_bio_data.csv\")\n",
    "students_df = pd.read_csv(\"../DataGeneration/students_bio_data.csv\")\n",
    "academic_df= pd.read_csv(\"../DataGeneration/academic_history_data.csv\")\n",
    "\n"
   ]
  },
  {
   "cell_type": "code",
   "execution_count": 23,
   "metadata": {},
   "outputs": [
    {
     "data": {
      "text/html": [
       "<div>\n",
       "<style scoped>\n",
       "    .dataframe tbody tr th:only-of-type {\n",
       "        vertical-align: middle;\n",
       "    }\n",
       "\n",
       "    .dataframe tbody tr th {\n",
       "        vertical-align: top;\n",
       "    }\n",
       "\n",
       "    .dataframe thead th {\n",
       "        text-align: right;\n",
       "    }\n",
       "</style>\n",
       "<table border=\"1\" class=\"dataframe\">\n",
       "  <thead>\n",
       "    <tr style=\"text-align: right;\">\n",
       "      <th></th>\n",
       "      <th>Parent ID</th>\n",
       "      <th>LASRRA ID</th>\n",
       "      <th>Student ID</th>\n",
       "      <th>First Name</th>\n",
       "      <th>Last Name</th>\n",
       "      <th>Gender</th>\n",
       "      <th>State of Origin</th>\n",
       "      <th>Title</th>\n",
       "      <th>Age</th>\n",
       "      <th>Date of Birth</th>\n",
       "      <th>Email</th>\n",
       "      <th>Phone Number</th>\n",
       "      <th>Home Address</th>\n",
       "      <th>Occupation</th>\n",
       "      <th>Financial Status</th>\n",
       "      <th>Education Level</th>\n",
       "      <th>Engagement in School Activities</th>\n",
       "      <th>LGA of residence</th>\n",
       "    </tr>\n",
       "  </thead>\n",
       "  <tbody>\n",
       "    <tr>\n",
       "      <th>0</th>\n",
       "      <td>PAR001</td>\n",
       "      <td>3058755736454904720</td>\n",
       "      <td>STU573</td>\n",
       "      <td>Amomot</td>\n",
       "      <td>Arinze</td>\n",
       "      <td>Male</td>\n",
       "      <td>Plateau</td>\n",
       "      <td>Chief</td>\n",
       "      <td>53</td>\n",
       "      <td>1971-02-19</td>\n",
       "      <td>amomot.arinze@gmail.com</td>\n",
       "      <td>2347066629388</td>\n",
       "      <td>63, Avenue in Lagos Mainland, Lagos State</td>\n",
       "      <td>Farmer</td>\n",
       "      <td>Low Income</td>\n",
       "      <td>Primary</td>\n",
       "      <td>High</td>\n",
       "      <td>Shomolu</td>\n",
       "    </tr>\n",
       "    <tr>\n",
       "      <th>1</th>\n",
       "      <td>PAR002</td>\n",
       "      <td>2833953597603037606</td>\n",
       "      <td>STU214</td>\n",
       "      <td>Sunday</td>\n",
       "      <td>Ogundele</td>\n",
       "      <td>Female</td>\n",
       "      <td>Kaduna</td>\n",
       "      <td>Prof.</td>\n",
       "      <td>49</td>\n",
       "      <td>1975-10-09</td>\n",
       "      <td>sunday.ogundele@gmail.com</td>\n",
       "      <td>2347010872248</td>\n",
       "      <td>79, Road in Alimosho, Lagos State</td>\n",
       "      <td>Teacher</td>\n",
       "      <td>High Income</td>\n",
       "      <td>Secondary</td>\n",
       "      <td>Medium</td>\n",
       "      <td>Agege</td>\n",
       "    </tr>\n",
       "    <tr>\n",
       "      <th>2</th>\n",
       "      <td>PAR002</td>\n",
       "      <td>2833953597603037606</td>\n",
       "      <td>STU548</td>\n",
       "      <td>Sunday</td>\n",
       "      <td>Ogundele</td>\n",
       "      <td>Female</td>\n",
       "      <td>Borno</td>\n",
       "      <td>Mrs.</td>\n",
       "      <td>49</td>\n",
       "      <td>1975-06-04</td>\n",
       "      <td>sunday.ogundele@gmail.com</td>\n",
       "      <td>2347022448136</td>\n",
       "      <td>79, Road in Alimosho, Lagos State</td>\n",
       "      <td>Medical Professional</td>\n",
       "      <td>Low Income</td>\n",
       "      <td>Secondary</td>\n",
       "      <td>Medium</td>\n",
       "      <td>Agege</td>\n",
       "    </tr>\n",
       "    <tr>\n",
       "      <th>3</th>\n",
       "      <td>PAR003</td>\n",
       "      <td>2151318126898855557</td>\n",
       "      <td>STU344</td>\n",
       "      <td>Sodiq</td>\n",
       "      <td>Onyeka</td>\n",
       "      <td>Female</td>\n",
       "      <td>Benue</td>\n",
       "      <td>Chief</td>\n",
       "      <td>31</td>\n",
       "      <td>1993-05-27</td>\n",
       "      <td>sodiq.onyeka@gmail.com</td>\n",
       "      <td>2347094374605</td>\n",
       "      <td>27, Road in Apapa, Lagos State</td>\n",
       "      <td>Business</td>\n",
       "      <td>Middle Income</td>\n",
       "      <td>Tertiary</td>\n",
       "      <td>High</td>\n",
       "      <td>Ajeromi-Ifelodun</td>\n",
       "    </tr>\n",
       "    <tr>\n",
       "      <th>4</th>\n",
       "      <td>PAR003</td>\n",
       "      <td>2151318126898855557</td>\n",
       "      <td>STU240</td>\n",
       "      <td>Sodiq</td>\n",
       "      <td>Onyeka</td>\n",
       "      <td>Male</td>\n",
       "      <td>Kwara</td>\n",
       "      <td>Mrs.</td>\n",
       "      <td>31</td>\n",
       "      <td>1993-05-03</td>\n",
       "      <td>sodiq.onyeka@gmail.com</td>\n",
       "      <td>2347041244663</td>\n",
       "      <td>27, Road in Apapa, Lagos State</td>\n",
       "      <td>Farmer</td>\n",
       "      <td>Middle Income</td>\n",
       "      <td>Secondary</td>\n",
       "      <td>Medium</td>\n",
       "      <td>Ajeromi-Ifelodun</td>\n",
       "    </tr>\n",
       "  </tbody>\n",
       "</table>\n",
       "</div>"
      ],
      "text/plain": [
       "  Parent ID            LASRRA ID Student ID First Name Last Name  Gender  \\\n",
       "0    PAR001  3058755736454904720     STU573     Amomot    Arinze    Male   \n",
       "1    PAR002  2833953597603037606     STU214     Sunday  Ogundele  Female   \n",
       "2    PAR002  2833953597603037606     STU548     Sunday  Ogundele  Female   \n",
       "3    PAR003  2151318126898855557     STU344      Sodiq    Onyeka  Female   \n",
       "4    PAR003  2151318126898855557     STU240      Sodiq    Onyeka    Male   \n",
       "\n",
       "  State of Origin  Title  Age Date of Birth                      Email  \\\n",
       "0         Plateau  Chief   53    1971-02-19    amomot.arinze@gmail.com   \n",
       "1          Kaduna  Prof.   49    1975-10-09  sunday.ogundele@gmail.com   \n",
       "2           Borno   Mrs.   49    1975-06-04  sunday.ogundele@gmail.com   \n",
       "3           Benue  Chief   31    1993-05-27     sodiq.onyeka@gmail.com   \n",
       "4           Kwara   Mrs.   31    1993-05-03     sodiq.onyeka@gmail.com   \n",
       "\n",
       "    Phone Number                               Home Address  \\\n",
       "0  2347066629388  63, Avenue in Lagos Mainland, Lagos State   \n",
       "1  2347010872248          79, Road in Alimosho, Lagos State   \n",
       "2  2347022448136          79, Road in Alimosho, Lagos State   \n",
       "3  2347094374605             27, Road in Apapa, Lagos State   \n",
       "4  2347041244663             27, Road in Apapa, Lagos State   \n",
       "\n",
       "             Occupation Financial Status Education Level  \\\n",
       "0                Farmer       Low Income         Primary   \n",
       "1               Teacher      High Income       Secondary   \n",
       "2  Medical Professional       Low Income       Secondary   \n",
       "3              Business    Middle Income        Tertiary   \n",
       "4                Farmer    Middle Income       Secondary   \n",
       "\n",
       "  Engagement in School Activities  LGA of residence  \n",
       "0                            High           Shomolu  \n",
       "1                          Medium             Agege  \n",
       "2                          Medium             Agege  \n",
       "3                            High  Ajeromi-Ifelodun  \n",
       "4                          Medium  Ajeromi-Ifelodun  "
      ]
     },
     "execution_count": 23,
     "metadata": {},
     "output_type": "execute_result"
    }
   ],
   "source": [
    "parents_df.head()"
   ]
  },
  {
   "cell_type": "code",
   "execution_count": 24,
   "metadata": {},
   "outputs": [],
   "source": [
    "# Merge parental engagement data with academic performance data\n",
    "merged_parental_df = pd.merge(students_df[['Student ID']], parents_df[['Parent ID', 'Engagement in School Activities','Student ID']], on='Student ID')\n",
    "merged_parental_academic_df = pd.merge(academic_df, merged_parental_df[['Student ID', 'Engagement in School Activities']], on='Student ID')"
   ]
  },
  {
   "cell_type": "code",
   "execution_count": 25,
   "metadata": {},
   "outputs": [
    {
     "name": "stdout",
     "output_type": "stream",
     "text": [
      "Impact of Parental Engagement on Academic Performance\n",
      "  Engagement in School Activities  Average_Score  Average_Attendance\n",
      "0                            High      72.455316           85.001605\n",
      "1                             Low      72.563248           84.946925\n",
      "2                          Medium      72.547058           85.046329\n"
     ]
    }
   ],
   "source": [
    "\n",
    "# Calculate average scores and attendance by parental engagement\n",
    "parental_engagement_performance = merged_parental_academic_df.groupby('Engagement in School Activities').agg(\n",
    "    Average_Score=('Total Score', 'mean'),\n",
    "    Average_Attendance=('Attendance', 'mean')\n",
    ").reset_index()\n",
    "\n",
    "\n",
    "# Display the results\n",
    "print(\"Impact of Parental Engagement on Academic Performance\")\n",
    "print(parental_engagement_performance)"
   ]
  },
  {
   "cell_type": "code",
   "execution_count": 26,
   "metadata": {},
   "outputs": [
    {
     "name": "stderr",
     "output_type": "stream",
     "text": [
      "C:\\Users\\JOHNKENNEDY\\AppData\\Local\\Temp\\ipykernel_25828\\1019126012.py:6: FutureWarning: \n",
      "\n",
      "Passing `palette` without assigning `hue` is deprecated and will be removed in v0.14.0. Assign the `x` variable to `hue` and set `legend=False` for the same effect.\n",
      "\n",
      "  sns.barplot(x='Engagement in School Activities', y='Average_Score', data=parental_engagement_performance, palette='coolwarm')\n",
      "C:\\Users\\JOHNKENNEDY\\AppData\\Local\\Temp\\ipykernel_25828\\1019126012.py:13: FutureWarning: \n",
      "\n",
      "Passing `palette` without assigning `hue` is deprecated and will be removed in v0.14.0. Assign the `x` variable to `hue` and set `legend=False` for the same effect.\n",
      "\n",
      "  sns.barplot(x='Engagement in School Activities', y='Average_Attendance', data=parental_engagement_performance, palette='coolwarm')\n"
     ]
    },
    {
     "data": {
      "image/png": "[encoded data removed]",
      "text/plain": [
       "<Figure size 1200x500 with 2 Axes>"
      ]
     },
     "metadata": {},
     "output_type": "display_data"
    }
   ],
   "source": [
    "# Visualize the relationship between parental engagement and academic performance\n",
    "plt.figure(figsize=(12, 5))\n",
    "\n",
    "# Plot average scores by parental engagement level\n",
    "plt.subplot(1, 2, 1)\n",
    "sns.barplot(x='Engagement in School Activities', y='Average_Score', data=parental_engagement_performance, palette='coolwarm')\n",
    "plt.title('Average Scores by Parental Engagement Level')\n",
    "plt.xlabel('Parental Engagement Level')\n",
    "plt.ylabel('Average Total Score')\n",
    "\n",
    "# Plot average attendance by parental engagement level\n",
    "plt.subplot(1, 2, 2)\n",
    "sns.barplot(x='Engagement in School Activities', y='Average_Attendance', data=parental_engagement_performance, palette='coolwarm')\n",
    "plt.title('Average Attendance by Parental Engagement Level')\n",
    "plt.xlabel('Parental Engagement Level')\n",
    "plt.ylabel('Average Attendance Rate')\n",
    "\n",
    "plt.tight_layout()\n",
    "plt.show()\n"
   ]
  },
  {
   "cell_type": "code",
   "execution_count": 27,
   "metadata": {},
   "outputs": [
    {
     "name": "stdout",
     "output_type": "stream",
     "text": [
      "Correlation Matrix for Parental Engagement and Performance\n",
      "             Total Score  Attendance\n",
      "Total Score     1.000000   -0.003793\n",
      "Attendance     -0.003793    1.000000\n"
     ]
    },
    {
     "name": "stderr",
     "output_type": "stream",
     "text": [
      "C:\\Users\\JOHNKENNEDY\\AppData\\Local\\Temp\\ipykernel_25828\\1741913248.py:2: FutureWarning: The default value of numeric_only in DataFrame.corr is deprecated. In a future version, it will default to False. Select only valid columns or specify the value of numeric_only to silence this warning.\n",
      "  engagement_correlation = merged_parental_academic_df[['Engagement in School Activities', 'Total Score', 'Attendance']].corr()\n"
     ]
    }
   ],
   "source": [
    "\n",
    "# Calculate the correlation between parental engagement and academic performance\n",
    "engagement_correlation = merged_parental_academic_df[['Engagement in School Activities', 'Total Score', 'Attendance']].corr()\n",
    "print(\"Correlation Matrix for Parental Engagement and Performance\")\n",
    "print(engagement_correlation)\n"
   ]
  },
  {
   "cell_type": "code",
   "execution_count": null,
   "metadata": {},
   "outputs": [],
   "source": []
  }
 ],
 "metadata": {
  "kernelspec": {
   "display_name": "Python 3",
   "language": "python",
   "name": "python3"
  },
  "language_info": {
   "codemirror_mode": {
    "name": "ipython",
    "version": 3
   },
   "file_extension": ".py",
   "mimetype": "text/x-python",
   "name": "python",
   "nbconvert_exporter": "python",
   "pygments_lexer": "ipython3",
   "version": "3.8.19"
  }
 },
 "nbformat": 4,
 "nbformat_minor": 2
}
