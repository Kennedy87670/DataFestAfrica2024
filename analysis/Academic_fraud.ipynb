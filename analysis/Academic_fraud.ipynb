{
 "cells": [
  {
   "cell_type": "markdown",
   "metadata": {},
   "source": [
    "## Implementing Anomaly Detection for Academic Fraud\n",
    "Anomaly detection is a crucial part of understanding data integrity and ensuring academic records are not manipulated. Here, we will implement strategies to detect irregularities and fraudulent patterns in academic records by applying machine learning techniques and statistical methods. This process involves using algorithms to identify deviations from normal patterns and flag potential fraud.\n",
    "\n",
    "Key Steps for Anomaly Detection\n",
    "1. Data Preprocessing: Prepare the data to ensure that it is suitable for anomaly detection algorithms.\n",
    "2. Feature Engineering: Create meaningful features to capture the context around grades, such as teacher ID, subject, and student history.\n",
    "3. Statistical Analysis for Anomalies: Use statistical techniques to detect outliers in academic scores.\n",
    "3. Machine Learning-Based Anomaly Detection: Use algorithms like Isolation Forest, One-Class SVM, or Local Outlier Factor to identify anomalies.\n",
    "4. Interpretation and Visualization: Visualize anomalies and interpret the results to identify patterns of irregularities."
   ]
  },
  {
   "cell_type": "code",
   "execution_count": 1,
   "metadata": {},
   "outputs": [
    {
     "name": "stdout",
     "output_type": "stream",
     "text": [
      "Academic History Data:\n"
     ]
    },
    {
     "data": {
      "text/html": [
       "<div>\n",
       "<style scoped>\n",
       "    .dataframe tbody tr th:only-of-type {\n",
       "        vertical-align: middle;\n",
       "    }\n",
       "\n",
       "    .dataframe tbody tr th {\n",
       "        vertical-align: top;\n",
       "    }\n",
       "\n",
       "    .dataframe thead th {\n",
       "        text-align: right;\n",
       "    }\n",
       "</style>\n",
       "<table border=\"1\" class=\"dataframe\">\n",
       "  <thead>\n",
       "    <tr style=\"text-align: right;\">\n",
       "      <th></th>\n",
       "      <th>Student ID</th>\n",
       "      <th>Grade Level</th>\n",
       "      <th>Subject</th>\n",
       "      <th>Term</th>\n",
       "      <th>Teacher ID</th>\n",
       "      <th>Test Score</th>\n",
       "      <th>Exam Score</th>\n",
       "      <th>Total Score</th>\n",
       "      <th>Attendance</th>\n",
       "      <th>Cumulative Score</th>\n",
       "      <th>Average Attendance</th>\n",
       "      <th>JAMB Score</th>\n",
       "      <th>Passed Core Subjects</th>\n",
       "      <th>Cumulative Attendance Rate</th>\n",
       "    </tr>\n",
       "  </thead>\n",
       "  <tbody>\n",
       "    <tr>\n",
       "      <th>0</th>\n",
       "      <td>STU001</td>\n",
       "      <td>JSS1</td>\n",
       "      <td>English Studies</td>\n",
       "      <td>First Term</td>\n",
       "      <td>TCH018</td>\n",
       "      <td>28</td>\n",
       "      <td>31</td>\n",
       "      <td>59</td>\n",
       "      <td>70</td>\n",
       "      <td>64.00</td>\n",
       "      <td>72.33</td>\n",
       "      <td>NaN</td>\n",
       "      <td>NaN</td>\n",
       "      <td>83.403509</td>\n",
       "    </tr>\n",
       "    <tr>\n",
       "      <th>1</th>\n",
       "      <td>STU001</td>\n",
       "      <td>JSS1</td>\n",
       "      <td>English Studies</td>\n",
       "      <td>Second Term</td>\n",
       "      <td>TCH018</td>\n",
       "      <td>17</td>\n",
       "      <td>36</td>\n",
       "      <td>53</td>\n",
       "      <td>77</td>\n",
       "      <td>64.00</td>\n",
       "      <td>72.33</td>\n",
       "      <td>NaN</td>\n",
       "      <td>NaN</td>\n",
       "      <td>83.403509</td>\n",
       "    </tr>\n",
       "    <tr>\n",
       "      <th>2</th>\n",
       "      <td>STU001</td>\n",
       "      <td>JSS1</td>\n",
       "      <td>English Studies</td>\n",
       "      <td>Third Term</td>\n",
       "      <td>TCH018</td>\n",
       "      <td>31</td>\n",
       "      <td>49</td>\n",
       "      <td>80</td>\n",
       "      <td>70</td>\n",
       "      <td>64.00</td>\n",
       "      <td>72.33</td>\n",
       "      <td>NaN</td>\n",
       "      <td>NaN</td>\n",
       "      <td>83.403509</td>\n",
       "    </tr>\n",
       "    <tr>\n",
       "      <th>3</th>\n",
       "      <td>STU001</td>\n",
       "      <td>JSS1</td>\n",
       "      <td>Literature in English</td>\n",
       "      <td>First Term</td>\n",
       "      <td>TCH015</td>\n",
       "      <td>32</td>\n",
       "      <td>36</td>\n",
       "      <td>68</td>\n",
       "      <td>92</td>\n",
       "      <td>73.33</td>\n",
       "      <td>87.67</td>\n",
       "      <td>NaN</td>\n",
       "      <td>NaN</td>\n",
       "      <td>83.403509</td>\n",
       "    </tr>\n",
       "    <tr>\n",
       "      <th>4</th>\n",
       "      <td>STU001</td>\n",
       "      <td>JSS1</td>\n",
       "      <td>Literature in English</td>\n",
       "      <td>Second Term</td>\n",
       "      <td>TCH015</td>\n",
       "      <td>35</td>\n",
       "      <td>52</td>\n",
       "      <td>87</td>\n",
       "      <td>87</td>\n",
       "      <td>73.33</td>\n",
       "      <td>87.67</td>\n",
       "      <td>NaN</td>\n",
       "      <td>NaN</td>\n",
       "      <td>83.403509</td>\n",
       "    </tr>\n",
       "  </tbody>\n",
       "</table>\n",
       "</div>"
      ],
      "text/plain": [
       "  Student ID Grade Level                Subject         Term Teacher ID  \\\n",
       "0     STU001        JSS1        English Studies   First Term     TCH018   \n",
       "1     STU001        JSS1        English Studies  Second Term     TCH018   \n",
       "2     STU001        JSS1        English Studies   Third Term     TCH018   \n",
       "3     STU001        JSS1  Literature in English   First Term     TCH015   \n",
       "4     STU001        JSS1  Literature in English  Second Term     TCH015   \n",
       "\n",
       "   Test Score  Exam Score  Total Score  Attendance  Cumulative Score  \\\n",
       "0          28          31           59          70             64.00   \n",
       "1          17          36           53          77             64.00   \n",
       "2          31          49           80          70             64.00   \n",
       "3          32          36           68          92             73.33   \n",
       "4          35          52           87          87             73.33   \n",
       "\n",
       "   Average Attendance  JAMB Score Passed Core Subjects  \\\n",
       "0               72.33         NaN                  NaN   \n",
       "1               72.33         NaN                  NaN   \n",
       "2               72.33         NaN                  NaN   \n",
       "3               87.67         NaN                  NaN   \n",
       "4               87.67         NaN                  NaN   \n",
       "\n",
       "   Cumulative Attendance Rate  \n",
       "0                   83.403509  \n",
       "1                   83.403509  \n",
       "2                   83.403509  \n",
       "3                   83.403509  \n",
       "4                   83.403509  "
      ]
     },
     "execution_count": 1,
     "metadata": {},
     "output_type": "execute_result"
    }
   ],
   "source": [
    "import pandas as pd\n",
    "import numpy as np\n",
    "import matplotlib.pyplot as plt\n",
    "import seaborn as sns\n",
    "from sklearn.ensemble import IsolationForest\n",
    "from sklearn.preprocessing import StandardScaler\n",
    "\n",
    "# Load the academic history dataset with teacher IDs\n",
    "academic_history_df = pd.read_csv(\"./DataGeneration/academic_history_data.csv\")\n",
    "\n",
    "# Display the structure of the data\n",
    "print(\"Academic History Data:\")\n",
    "academic_history_df.head()\n"
   ]
  },
  {
   "cell_type": "markdown",
   "metadata": {},
   "source": [
    "## Step 2: Feature Engineering\n",
    "For effective anomaly detection, it’s essential to engineer features that can provide a context to identify unusual patterns.\n",
    "\n",
    "1. Score Differences: Calculate the difference between test and exam scores to see if a student’s performance changed drastically within the same term.\n",
    "2. Cumulative Performance: Track cumulative scores over different terms to see if there are unusual spikes or declines.\n",
    "3. Teacher-Based Analysis: Check if students under a particular teacher are consistently scoring higher or lower than expected."
   ]
  },
  {
   "cell_type": "code",
   "execution_count": 2,
   "metadata": {},
   "outputs": [],
   "source": [
    "# Calculate score differences and add new features\n",
    "academic_history_df[\"Score Difference\"] = abs(academic_history_df[\"Test Score\"] - academic_history_df[\"Exam Score\"])\n",
    "academic_history_df[\"Term Cumulative Score\"] = academic_history_df.groupby([\"Student ID\", \"Subject\"])[\"Total Score\"].cumsum()\n",
    "\n",
    "# Standardize the data for anomaly detection\n",
    "scaler = StandardScaler()\n",
    "academic_history_df[[\"Test Score\", \"Exam Score\", \"Total Score\", \"Score Difference\"]] = scaler.fit_transform(\n",
    "    academic_history_df[[\"Test Score\", \"Exam Score\", \"Total Score\", \"Score Difference\"]]\n",
    ")\n"
   ]
  },
  {
   "cell_type": "markdown",
   "metadata": {},
   "source": [
    "## Step 3: Statistical Analysis for Anomalies\n",
    "Using standard deviation and interquartile range (IQR) methods to detect outliers in the distribution of grades."
   ]
  },
  {
   "cell_type": "code",
   "execution_count": 3,
   "metadata": {},
   "outputs": [
    {
     "name": "stdout",
     "output_type": "stream",
     "text": [
      "Statistical Anomalies Based on Total Score:\n",
      "Empty DataFrame\n",
      "Columns: [Student ID, Grade Level, Subject, Term, Teacher ID, Test Score, Exam Score, Total Score, Attendance, Cumulative Score, Average Attendance, JAMB Score, Passed Core Subjects, Cumulative Attendance Rate, Score Difference, Term Cumulative Score, Z_Score, Anomaly]\n",
      "Index: []\n"
     ]
    }
   ],
   "source": [
    "# Define a function to identify statistical anomalies using z-score or IQR\n",
    "def detect_statistical_anomalies(df, feature):\n",
    "    # Calculate the Z-score\n",
    "    df['Z_Score'] = (df[feature] - df[feature].mean()) / df[feature].std()\n",
    "    # Flag anomalies based on Z-score threshold\n",
    "    df['Anomaly'] = np.where(np.abs(df['Z_Score']) > 3, True, False)\n",
    "    return df\n",
    "\n",
    "# Detect anomalies based on Total Score\n",
    "academic_history_df = detect_statistical_anomalies(academic_history_df, \"Total Score\")\n",
    "\n",
    "# View flagged anomalies\n",
    "print(\"Statistical Anomalies Based on Total Score:\")\n",
    "print(academic_history_df[academic_history_df[\"Anomaly\"] == True].head())\n"
   ]
  },
  {
   "cell_type": "markdown",
   "metadata": {},
   "source": [
    "## Step 4: Machine Learning-Based Anomaly Detection\n",
    "Using Isolation Forest to identify anomalies in academic scores. Isolation Forest is an effective model for identifying outliers in high-dimensional datasets."
   ]
  },
  {
   "cell_type": "code",
   "execution_count": 4,
   "metadata": {},
   "outputs": [
    {
     "name": "stdout",
     "output_type": "stream",
     "text": [
      "Machine Learning-Based Anomalies:\n",
      "    Student ID Grade Level                      Subject        Term  \\\n",
      "14      STU001        JSS1             Business Studies  Third Term   \n",
      "102     STU002        JSS1                        Music  First Term   \n",
      "117     STU002        JSS2        Literature in English  First Term   \n",
      "134     STU002        JSS2                  Mathematics  Third Term   \n",
      "153     STU002        JSS2  Christian Religious Studies  First Term   \n",
      "\n",
      "    Teacher ID  Test Score  Exam Score  Total Score  Attendance  \\\n",
      "14      TCH037    1.661291   -1.562053    -0.129572          93   \n",
      "102     TCH039   -1.667585   -1.450457    -2.174156          99   \n",
      "117     TCH015   -1.534430   -1.562053    -2.174156          88   \n",
      "134     TCH045   -1.401275   -1.673650    -2.174156          84   \n",
      "153     TCH050   -1.534430   -1.450457    -2.088965          90   \n",
      "\n",
      "     Cumulative Score  Average Attendance  JAMB Score Passed Core Subjects  \\\n",
      "14              68.67               84.00         NaN                  NaN   \n",
      "102             68.67               87.00         NaN                  NaN   \n",
      "117             63.00               86.00         NaN                  NaN   \n",
      "134             68.33               87.33         NaN                  NaN   \n",
      "153             59.33               82.67         NaN                  NaN   \n",
      "\n",
      "     Cumulative Attendance Rate  Score Difference  Term Cumulative Score  \\\n",
      "14                    83.403509         -0.836093                    206   \n",
      "102                   84.491228         -0.094321                     47   \n",
      "117                   84.491228         -0.279764                    263   \n",
      "134                   84.491228         -0.465207                    381   \n",
      "153                   84.491228         -0.187042                    245   \n",
      "\n",
      "      Z_Score  Anomaly Fraud_Score  \n",
      "14  -0.129572    False     Anomaly  \n",
      "102 -2.174143    False     Anomaly  \n",
      "117 -2.174143    False     Anomaly  \n",
      "134 -2.174143    False     Anomaly  \n",
      "153 -2.088952    False     Anomaly  \n"
     ]
    }
   ],
   "source": [
    "from sklearn.ensemble import IsolationForest\n",
    "\n",
    "# Select features for anomaly detection\n",
    "features = [\"Test Score\", \"Exam Score\", \"Total Score\", \"Score Difference\"]\n",
    "\n",
    "# Fit the Isolation Forest model\n",
    "isolation_forest = IsolationForest(n_estimators=100, contamination=0.05, random_state=42)\n",
    "academic_history_df[\"Fraud_Score\"] = isolation_forest.fit_predict(academic_history_df[features])\n",
    "\n",
    "# Convert the prediction to human-readable labels\n",
    "academic_history_df[\"Fraud_Score\"] = academic_history_df[\"Fraud_Score\"].map({1: \"Normal\", -1: \"Anomaly\"})\n",
    "\n",
    "# View flagged anomalies\n",
    "print(\"Machine Learning-Based Anomalies:\")\n",
    "print(academic_history_df[academic_history_df[\"Fraud_Score\"] == \"Anomaly\"].head())\n"
   ]
  },
  {
   "cell_type": "markdown",
   "metadata": {},
   "source": [
    "## Step 5: Identify and Flag Potential Fraud\n",
    "Using the output of anomaly detection models, flag records that exhibit potential fraud. These could include:\n",
    "\n",
    "1. Consistent High Grades: Students consistently achieving high scores that deviate significantly from peers.\n",
    "2. Sudden Score Spikes: Sudden improvements in scores that are not supported by prior performance history.\n",
    "3. Teacher Irregularities: Patterns where certain teachers have a disproportionately high number of anomalies."
   ]
  },
  {
   "cell_type": "code",
   "execution_count": 5,
   "metadata": {},
   "outputs": [
    {
     "name": "stdout",
     "output_type": "stream",
     "text": [
      "Potential Fraudulent Records by Teacher:\n",
      "   Teacher ID  Anomaly Count\n",
      "45     TCH048            452\n",
      "12     TCH015            258\n",
      "3      TCH004            254\n",
      "15     TCH018            252\n",
      "42     TCH045            249\n",
      "\n",
      "Potential Fraudulent Records by Student:\n",
      "    Student ID  Anomaly Count\n",
      "180     STU186             21\n",
      "197     STU203             18\n",
      "547     STU557             17\n",
      "112     STU116             17\n",
      "486     STU495             17\n"
     ]
    }
   ],
   "source": [
    "# Identify potential fraud based on anomalies\n",
    "potential_fraud_df = academic_history_df[academic_history_df[\"Fraud_Score\"] == \"Anomaly\"]\n",
    "\n",
    "# Further analysis to identify specific patterns\n",
    "fraud_by_teacher = potential_fraud_df.groupby(\"Teacher ID\").size().reset_index(name=\"Anomaly Count\")\n",
    "fraud_by_student = potential_fraud_df.groupby(\"Student ID\").size().reset_index(name=\"Anomaly Count\")\n",
    "\n",
    "# Display results\n",
    "print(\"Potential Fraudulent Records by Teacher:\")\n",
    "print(fraud_by_teacher.sort_values(by=\"Anomaly Count\", ascending=False).head())\n",
    "\n",
    "print(\"\\nPotential Fraudulent Records by Student:\")\n",
    "print(fraud_by_student.sort_values(by=\"Anomaly Count\", ascending=False).head())\n"
   ]
  },
  {
   "cell_type": "markdown",
   "metadata": {},
   "source": [
    "## Step 6: Visualization and Reporting\n",
    "Visualize anomalies using scatter plots and highlight potential fraud in the academic records."
   ]
  },
  {
   "cell_type": "code",
   "execution_count": 6,
   "metadata": {},
   "outputs": [
    {
     "data": {
      "image/png": "[encoded data removed]",
      "text/plain": [
       "<Figure size 1400x600 with 1 Axes>"
      ]
     },
     "metadata": {},
     "output_type": "display_data"
    }
   ],
   "source": [
    "# Scatter plot: Total Score vs. Fraud Score with anomalies highlighted\n",
    "plt.figure(figsize=(14, 6))\n",
    "sns.scatterplot(data=academic_history_df, x=\"Term\", y=\"Total Score\", hue=\"Fraud_Score\", palette=[\"green\", \"red\"])\n",
    "plt.title(\"Anomalies in Academic Scores by Term\")\n",
    "plt.xlabel(\"Term\")\n",
    "plt.ylabel(\"Total Score\")\n",
    "plt.show()\n"
   ]
  },
  {
   "cell_type": "markdown",
   "metadata": {},
   "source": [
    "## Step 7: Actionable Insights and Recommendations\n",
    "1. Identify At-Risk Teachers and Students: Use the anomaly results to highlight teachers or students who need further review.\n",
    "2. Targeted Audits: Focus on students with a high anomaly count or teachers who have a disproportionately high number of flagged records.\n",
    "3. Implement Stronger Controls: Recommend policies or systems for monitoring academic records to prevent fraudulent entries."
   ]
  },
  {
   "cell_type": "markdown",
   "metadata": {},
   "source": [
    "## Conclusion\n",
    "By leveraging both statistical and machine learning-based anomaly detection models, you can flag potential fraud and irregularities in academic records. These insights can help school administrators take preventive measures, improve data integrity, and create a fair academic environment."
   ]
  }
 ],
 "metadata": {
  "kernelspec": {
   "display_name": "Python 3",
   "language": "python",
   "name": "python3"
  },
  "language_info": {
   "codemirror_mode": {
    "name": "ipython",
    "version": 3
   },
   "file_extension": ".py",
   "mimetype": "text/x-python",
   "name": "python",
   "nbconvert_exporter": "python",
   "pygments_lexer": "ipython3",
   "version": "3.8.19"
  }
 },
 "nbformat": 4,
 "nbformat_minor": 2
}
